{
 "cells": [
  {
   "cell_type": "markdown",
   "metadata": {},
   "source": [
    "# Appartment Rent Ad Creation\n",
    "\n",
    "I have an appartment that I must rent. Let's see if TinyTroupe can help me advertise to the right people!"
   ]
  },
  {
   "cell_type": "code",
   "execution_count": 12,
   "metadata": {},
   "outputs": [
    {
     "name": "stdout",
     "output_type": "stream",
     "text": [
      "Looking for default config on: c:\\Users\\maqima\\TinyTroupe\\examples\\..\\tinytroupe\\utils\\..\\config.ini\n",
      "Found custom config on: c:\\Users\\maqima\\TinyTroupe\\examples\\config.ini\n",
      "\n",
      "!!!!\n",
      "DISCLAIMER: TinyTroupe relies on Artificial Intelligence (AI) models to generate content. \n",
      "The AI models are not perfect and may produce inappropriate or inacurate results. \n",
      "For any serious or consequential use, please review the generated content before using it.\n",
      "!!!!\n",
      "\n",
      "\n",
      "=================================\n",
      "Current TinyTroupe configuration \n",
      "=================================\n",
      "[OpenAI]\n",
      "api_type = openai\n",
      "azure_api_version = 2024-08-01-preview\n",
      "model = gpt-4o-mini\n",
      "max_tokens = 4000\n",
      "temperature = 1.2\n",
      "freq_penalty = 0.0\n",
      "presence_penalty = 0.0\n",
      "timeout = 60\n",
      "max_attempts = 5\n",
      "waiting_time = 2\n",
      "exponential_backoff_factor = 5\n",
      "embedding_model = text-embedding-3-small\n",
      "cache_api_calls = False\n",
      "cache_file_name = openai_api_cache.pickle\n",
      "max_content_display_length = 1024\n",
      "azure_embedding_model_api_version = 2023-05-15\n",
      "\n",
      "[Simulation]\n",
      "rai_harmful_content_prevention = True\n",
      "rai_copyright_infringement_prevention = True\n",
      "\n",
      "[Logging]\n",
      "loglevel = ERROR\n",
      "\n"
     ]
    }
   ],
   "source": [
    "import json\n",
    "import sys\n",
    "sys.path.insert(0, '..')\n",
    "\n",
    "import tinytroupe\n",
    "from tinytroupe.agent import TinyPerson\n",
    "from tinytroupe.environment import TinyWorld, TinySocialNetwork\n",
    "from tinytroupe.examples import *\n",
    "from tinytroupe.extraction import ResultsExtractor"
   ]
  },
  {
   "cell_type": "code",
   "execution_count": 13,
   "metadata": {},
   "outputs": [],
   "source": [
    "focus_group = TinyWorld(\"Focus group\", [create_lisa_the_data_scientist(), create_oscar_the_architect(), create_marcos_the_physician()])"
   ]
  },
  {
   "cell_type": "code",
   "execution_count": 11,
   "metadata": {},
   "outputs": [],
   "source": [
    "situation = \\\n",
    "\"\"\" \n",
    "This is a focus group dedicated to finding the best way to advertise an appartment for rent.\n",
    "Everyone in the group is a friend to the person who is renting the appartment, called Paulo.\n",
    "The objective is to find the best way to advertise the appartment, so that Paulo can find a good tenant.\n",
    "\"\"\"\n",
    "\n",
    "apartment_description = \\\n",
    "\"\"\"\t\n",
    "The appartment has the following characteristics:\n",
    "  - It is in an old building, but was completely renovated and remodeled by an excellent architect. \n",
    "    There are almost no walls, so it is very spacious, mostly composed of integrated spaces. \n",
    "  - It was also recently repainted, so it looks brand new.\n",
    "  - 1 bedroom. Originally, it had two, but one was converted into a home office.\n",
    "  - 1 integrated kitchen and living room. The kitchen is very elegant, with a central eating wood table,\n",
    "    with 60s-style chairs. The appliances are in gray and steel, and the cabinets are in white, the wood\n",
    "    is light colored.\n",
    "  - Has wood-like floors in all rooms, except the kitchen and bathroom, which are tiled.  \n",
    "  - 2 bathrooms. Both with good taste porcelain and other decorative elements.\n",
    "  - 1 laundry room. The washing machine is new and also doubles as a dryer.\n",
    "  - Is already furnished with a bed, a sofa, a table, a desk, a chair, a washing machine, a refrigerator, \n",
    "    a stove, and a microwave.\n",
    "  - It has a spacious shelf for books and other objects.\n",
    "  - It is close to: a very convenient supermarket, a bakery, a gym, a bus stop, and a subway station. \n",
    "    It is also close to a great argentinian restaurant, and a pizzeria.\n",
    "  - It is located at a main avenue, but the appartment is in the back of the building, so it is very quiet.\n",
    "  - It is near of the best Medicine School in the country, so it is a good place for a medical student.  \n",
    "\"\"\"\n",
    "\n",
    "task = \\\n",
    "\"\"\"\n",
    "Discuss the best way to advertise the appartment, so that Paulo can find a good tenant.\n",
    "\"\"\""
   ]
  },
  {
   "cell_type": "markdown",
   "metadata": {},
   "source": [
    "Inform the focus groups about their situation and task."
   ]
  },
  {
   "cell_type": "code",
   "execution_count": 6,
   "metadata": {},
   "outputs": [
    {
     "ename": "NameError",
     "evalue": "name 'focus_group' is not defined",
     "output_type": "error",
     "traceback": [
      "\u001b[1;31m---------------------------------------------------------------------------\u001b[0m",
      "\u001b[1;31mNameError\u001b[0m                                 Traceback (most recent call last)",
      "Cell \u001b[1;32mIn[6], line 1\u001b[0m\n\u001b[1;32m----> 1\u001b[0m \u001b[43mfocus_group\u001b[49m\u001b[38;5;241m.\u001b[39mbroadcast(situation)\n\u001b[0;32m      2\u001b[0m focus_group\u001b[38;5;241m.\u001b[39mbroadcast(apartment_description)\n\u001b[0;32m      3\u001b[0m focus_group\u001b[38;5;241m.\u001b[39mbroadcast(task)\n",
      "\u001b[1;31mNameError\u001b[0m: name 'focus_group' is not defined"
     ]
    }
   ],
   "source": [
    "focus_group.broadcast(situation)\n",
    "focus_group.broadcast(apartment_description)\n",
    "focus_group.broadcast(task)"
   ]
  },
  {
   "cell_type": "markdown",
   "metadata": {},
   "source": [
    "Start the focus group discussion."
   ]
  },
  {
   "cell_type": "code",
   "execution_count": 5,
   "metadata": {},
   "outputs": [
    {
     "ename": "NameError",
     "evalue": "name 'focus_group' is not defined",
     "output_type": "error",
     "traceback": [
      "\u001b[1;31m---------------------------------------------------------------------------\u001b[0m",
      "\u001b[1;31mNameError\u001b[0m                                 Traceback (most recent call last)",
      "Cell \u001b[1;32mIn[5], line 1\u001b[0m\n\u001b[1;32m----> 1\u001b[0m \u001b[43mfocus_group\u001b[49m\u001b[38;5;241m.\u001b[39mrun(\u001b[38;5;241m3\u001b[39m)\n",
      "\u001b[1;31mNameError\u001b[0m: name 'focus_group' is not defined"
     ]
    }
   ],
   "source": [
    "focus_group.run(3)"
   ]
  },
  {
   "cell_type": "code",
   "execution_count": 6,
   "metadata": {},
   "outputs": [
    {
     "name": "stdout",
     "output_type": "stream",
     "text": [
      "Extraction raw result message: {'content': '{\\n  \"ad_copy\": \"Discover your new home in this spacious, modern apartment perfect for medical students! Recently renovated by an excellent architect, this elegant space features integrated living areas, two stylish bathrooms, and a laundry room with new appliances. Enjoy the convenience of nearby supermarkets, bakeries, gyms, and restaurants—all just steps away from public transport. Experience tranquility on a quiet street while being close to the best Medicine School in the country. Don\\'t miss out—schedule a virtual tour today!\"\\n}', 'refusal': None, 'role': 'assistant'}\n"
     ]
    },
    {
     "data": {
      "text/plain": [
       "{'ad_copy': \"Discover your new home in this spacious, modern apartment perfect for medical students! Recently renovated by an excellent architect, this elegant space features integrated living areas, two stylish bathrooms, and a laundry room with new appliances. Enjoy the convenience of nearby supermarkets, bakeries, gyms, and restaurants—all just steps away from public transport. Experience tranquility on a quiet street while being close to the best Medicine School in the country. Don't miss out—schedule a virtual tour today!\"}"
      ]
     },
     "execution_count": 6,
     "metadata": {},
     "output_type": "execute_result"
    }
   ],
   "source": [
    "extractor = ResultsExtractor()\n",
    "\n",
    "extractor.extract_results_from_world(focus_group,\n",
    "                                     extraction_objective=\"Compose an advertisement copy based on the ideas given.\",\n",
    "                                     fields=[\"ad_copy\"],\n",
    "                                    verbose=True)"
   ]
  },
  {
   "cell_type": "code",
   "execution_count": 7,
   "metadata": {},
   "outputs": [],
   "source": [
    "extractor.save_as_json(\"../data/extractions/appartment_rent_ad.extraction.json\")"
   ]
  },
  {
   "cell_type": "code",
   "execution_count": null,
   "metadata": {},
   "outputs": [],
   "source": []
  }
 ],
 "metadata": {
  "kernelspec": {
   "display_name": "tinytroupe",
   "language": "python",
   "name": "python3"
  },
  "language_info": {
   "codemirror_mode": {
    "name": "ipython",
    "version": 3
   },
   "file_extension": ".py",
   "mimetype": "text/x-python",
   "name": "python",
   "nbconvert_exporter": "python",
   "pygments_lexer": "ipython3",
   "version": "3.10.16"
  },
  "orig_nbformat": 4
 },
 "nbformat": 4,
 "nbformat_minor": 2
}
